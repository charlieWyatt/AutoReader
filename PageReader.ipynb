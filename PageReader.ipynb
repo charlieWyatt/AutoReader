{
 "cells": [
  {
   "cell_type": "markdown",
   "metadata": {},
   "source": [
    "# Reading LOTR\n",
    "\n",
    "NOTE - Can find ground truth txt document here - \n",
    "https://gosafir.com/mag/wp-content/uploads/2019/12/Tolkien-J.-The-lord-of-the-rings-HarperCollins-ebooks-2010.pdf\n",
    "But, things like headers, footers and page numbers will need to be removed"
   ]
  },
  {
   "cell_type": "code",
   "execution_count": 1,
   "metadata": {},
   "outputs": [],
   "source": [
    "import cv2\n",
    "import numpy as np\n",
    "from matplotlib import pyplot as plt\n",
    "\n",
    "import pytesseract\n",
    "from pytesseract import Output\n",
    "\n",
    "# img = cv2.imread('image.jpg')\n",
    "\n",
    "# get grayscale image\n",
    "def get_grayscale(image):\n",
    "    return cv2.cvtColor(image, cv2.COLOR_BGR2GRAY)\n",
    "\n",
    "# noise removal\n",
    "def remove_noise(image):\n",
    "    return cv2.medianBlur(image,5)\n",
    " \n",
    "#thresholding\n",
    "def thresholding(image):\n",
    "    return cv2.threshold(image, 0, 255, cv2.THRESH_BINARY + cv2.THRESH_OTSU)[1]\n",
    "\n",
    "#dilation\n",
    "def dilate(image):\n",
    "    kernel = np.ones((5,5),np.uint8)\n",
    "    return cv2.dilate(image, kernel, iterations = 1)\n",
    "    \n",
    "#erosion\n",
    "def erode(image):\n",
    "    kernel = np.ones((5,5),np.uint8)\n",
    "    return cv2.erode(image, kernel, iterations = 1)\n",
    "\n",
    "#opening - erosion followed by dilation\n",
    "def opening(image):\n",
    "    kernel = np.ones((5,5),np.uint8)\n",
    "    return cv2.morphologyEx(image, cv2.MORPH_OPEN, kernel)\n",
    "\n",
    "#canny edge detection\n",
    "def canny(image):\n",
    "    return cv2.Canny(image, 100, 200)\n",
    "\n",
    "#skew correction\n",
    "def deskew(image):\n",
    "    coords = np.column_stack(np.where(image > 0))\n",
    "    angle = cv2.minAreaRect(coords)[-1]\n",
    "    if angle < -45:\n",
    "        angle = -(90 + angle)\n",
    "    else:\n",
    "        angle = -angle\n",
    "    (h, w) = image.shape[:2]\n",
    "    center = (w // 2, h // 2)\n",
    "    M = cv2.getRotationMatrix2D(center, angle, 1.0)\n",
    "    rotated = cv2.warpAffine(image, M, (w, h), flags=cv2.INTER_CUBIC, borderMode=cv2.BORDER_REPLICATE)\n",
    "    return rotated\n",
    "\n",
    "#template matching\n",
    "def match_template(image, template):\n",
    "    return cv2.matchTemplate(image, template, cv2.TM_CCOEFF_NORMED) \n"
   ]
  },
  {
   "cell_type": "code",
   "execution_count": 2,
   "metadata": {},
   "outputs": [],
   "source": [
    "img = cv2.imread('IMG_6974.jpg')\n",
    "gray = get_grayscale(img)\n",
    "thresh = thresholding(gray)\n",
    "opening = opening(gray)\n",
    "canny = canny(gray)"
   ]
  },
  {
   "cell_type": "code",
   "execution_count": 3,
   "metadata": {},
   "outputs": [
    {
     "name": "stdout",
     "output_type": "stream",
     "text": [
      "hobbit ears to all the soft woodland noises about them. One thing he had noted, that in all the talk the name of Gollum had not once come up. He was glad, though he felt that it was too much to hope that he would never hear it again. He soon became aware also that though they walked alone, there were many men close at hand: not only Damrod and Mablung flitting in and out of the shadows ahead, but others on either side, all making their swift secret way to some appointed place. Once, looking suddenly back, as if some prickle of the skin told him that he was watched from behind, he thought he caught a brief glimpse of a small dark shape slipping behind a tree-trunk. He opened his mouth to speak and shut it again. 'I'm not sure of it,' he said to himself, 'and why should I remind them of the old villain, if they choose to forget him? I wish I could!'  So they passed on, until the woodlands grew thinner and the land began to fall more steeply. Then they turned aside again, to the right, and came quickly to a small river in a narrow gorge: it was the same stream that trickled far above out of the round pool, now grown to a swift torrent, leaping down over many stones in a deep-cloven bed, overhung with ilex and dark box-woods. Looking west they could see, below them in a haze of light, lowlands and broad meads, and glinting far off in the westering sun the wide waters of the\n"
     ]
    }
   ],
   "source": [
    "# establishing ground truth \n",
    "with open('ground_truth.txt') as f:\n",
    "    ground_truth = f.readlines()\n",
    "\n",
    "ground_truth = \" \".join(ground_truth).replace('\\n', '')\n",
    "print(ground_truth)"
   ]
  },
  {
   "cell_type": "code",
   "execution_count": 4,
   "metadata": {},
   "outputs": [
    {
     "name": "stdout",
     "output_type": "stream",
     "text": [
      "dict_keys(['level', 'page_num', 'block_num', 'par_num', 'line_num', 'word_num', 'left', 'top', 'width', 'height', 'conf', 'text'])\n"
     ]
    }
   ],
   "source": [
    "# boxing words\n",
    "d = pytesseract.image_to_data(img, output_type=Output.DICT)\n",
    "print(d.keys())\n",
    "\n",
    "n_boxes = len(d['text'])\n",
    "for i in range(n_boxes):\n",
    "    if int(d['conf'][i]) > 60:\n",
    "        (x, y, w, h) = (d['left'][i], d['top'][i], d['width'][i], d['height'][i])\n",
    "        img = cv2.rectangle(img, (x, y), (x + w, y + h), (0, 255, 0), 2)\n"
   ]
  },
  {
   "cell_type": "code",
   "execution_count": 6,
   "metadata": {},
   "outputs": [
    {
     "name": "stdout",
     "output_type": "stream",
     "text": [
      "Image transformation:  0\n",
      "String result:    ,obbit ears t0-al the Soft woodland noises about them! One ‘hing he had noted, that in all the talk the name had not once come up. He was glad, though he felt that .- was too much to hope that he would never hear it again. He soon became aware also that though they walked alone, where were many men close at hand: not only Damrod and Mablung flitting in and out of the shadows ahead, but others all making their swift secret way to ap d place.  told him that he was watched from behind, he thought he caught a brief glimpse of a small dark shape slipping behind a tree-trunk. He opened his mouth to speak and shut it again. Tm not sure of it,’ he said to himself, ‘and why should I remind them of the old villain, if they choose to forget him?  I wish I could!’  the land began to fall more steeply. Then they  again, to the right, and quickly to a small river in a  ‘lex and dark box-woods. Looking west they could see, below them in a haze of light, lowlands and broad meads, and  glinting far off in the westering sun the wide waters of the  Ar  yas! I must do you a discourtesy,’ said Faramir. ‘I a5 A owrmnri ” nid Frodo. “Even ted we crossed the borders of fair Loth- took it ill, but the hobbits endured it.’  OGL me ere Maem & oy Bxceat sh Pompe RC Re BRaramir.  @.  juce ye  \n",
      "Similarity score:  502\n",
      "\n",
      "\n",
      "Image transformation:  1\n",
      "String result:    5 to all the soft woodland noises about them. One ad noted, that in all the talk the name of Gollum had not once come Up. He was glad, though he felt that ‘¢ was too much to hope that he would never hear it again. He soon became aware also that though they walked alone, there were Many men close at hand: not only Damrod and  pobbit ear thing he h  Mablung flitting in and out of the shadows ahead, but others yuck on either side, all making their swift secret way to some nat wre  appointed place.  Once, looking suddenly back, as if some prickle of the skin told him that he was watched from behind, he thought he caught a brief glimpse of a small dark shape slipping behind a tree-trunk. He opened his mouth to speak and shut it again. Tm not sure of it,’ he said to himself, ‘and why should I remind them of the old villain, if they choose to forget him? I wish I could!” a é BoE  So they passed on, until the woodlands grew thinner and the land began to fall more steeply. Then they turned aside again, to the right, and came quickly to a small river in a narrow gorge: it was the same stream that trickled far above son ene out of the round pool, now grown to a swift torrent, leaping 4 down over many stones in a deep-cloven bed, overhung with lex and dark box-woods. Looking west they could see, below them in a haze of light, lowlands and broad meads, and glinting far off in the westering sun the wide waters of the  ie  yn tO get  as! I must do you a discourtesy,’ said Faramir. ‘I will pardon it to one who has so far made his orders  io courtesy as not to slay you or to bind you. But it nand that no stranger, not even one of Rohan that th us, shall see the path we now go with open eyes. slindfold you.’ 10 \\id Frodo. ‘Even the Elves do likewise at ed we crossed the borders of fair Loth- warf took it ill, but the hobbits endured it.’  PoP me eee WL & oy Emcee ge RN Re BRaramir.  \n",
      "Similarity score:  560\n",
      "\n",
      "\n",
      "Image transformation:  2\n",
      "String result:    5 to all the soft woodland noises about them. One ad noted, that in all the talk the name of Gollum had not once come up. He was glad, though he felt that ‘t was too much to hope that he would never hear it again. He soon became aware also that though they walked alone, there were many men close at hand: not only Damrod and  hobbit ear thing he h  Mablung flitting in and out of the shadows ahead, but others yuck on either side, all making their swift secret way to some nak ye  appointed place.  Once, looking suddenly back, as if some prickle of the skin told him that he was watched from behind, he thought he caught a brief glimpse of a small dark shape slipping behind a tree-trunk. He opened his mouth to speak and shut it again. Tm not sure of it,’ he said to himself; ‘and why should I remind them of the old villain, if they choose to forget him? I wish I could!” ae .  So they passed on, until the woodlands grew thinner and the land began to fall more steeply. Then they turned aside again, to the right, and came quickly to a small river in a narrow gorge: it was the same. stream that trickled far above on eve out of the round pool, now grown to a swift torrent, leaping uw down over many stones in a deep-cloven bed, overhung with ilex and dark box-woods. Looking west they could see, below them in a haze of light, lowlands and broad meads, and glinting far off in the westering sun the wide waters of the  Ar?  yn t0 get  as! I must do you a discourtesy,’ said Faramir. ‘I vill pardon it to one who has so far made his orders  J courtesy as not to slay you or to bind you. But it hand that no stranger, not even one of Rohan that Fh us, shall see the path we now go with open eyes. Blindfold you.’ ey \\id Frodo. ‘Even the Elves do likewise at Med we crossed the borders of fair Loth- fvarf took it ill, but the hobbits endured it.’  ero out a TY CLAN Tae <rpnair tr ecain BRaramir.  \n",
      "Similarity score:  561\n",
      "\n",
      "\n",
      "Image transformation:  3\n",
      "String result:    nobbit ears to all the soft woodland noises about them. One thing he had noted, that in all the talk the name of Gollum had not once come Up. He was glad, though he felt that it was too much to hope that he would never hear it again. He soon became aware also that though they walked alone, there were many men close at hand: not only Damrod and Mablung flitting in and out of the shadows ahead, but others on either side, all making their swift secret way to some appointed place.  Once, looking suddenly back, as if some prickle of the skin told him that he was watched from behind, he thought he caught a brief glimpse of a small dark shape slipping behind a tree-trunk. He opened his mouth to speak and shut it again. Tm not sure of it,’ he said to himself, ‘and why should I remind them of the old villain, if they choose to forget him? I wish I could!’ eS :  So they passed on, until the woodlands grew thinner and the land began to fall more steeply. Then they turned aside again, to the right, and came quickly to a small river in a narrow gorge: it was the same stream that trickled far above out of the round pool, now grown to a swift torrent, leaping down over many stones in a deep-cloven bed, overhung with jlex and dark box-woods. Looking west they could see, below them in a haze of light, lowlands and broad meads, and glinting far off in the westering sun the wide waters of the —_—  ! I must do you a discourtesy,’ said Faramir. at ill pardon it to one who has so far made his orders courtesy as not to slay you or to bind you. But it and that no stranger, not even one of Rohan that 1 us, shall see the path we now go with open eyes. jndfold you.’ id Frodo. ‘Even the Elves do likewise at “Yed we crossed the borders of fair Loth- _warf took it ill, but the hobbits endured it.’  Sg es ee, eee he baw ae ee ee BRaramir.  yuce erie  \n",
      "Similarity score:  473\n",
      "\n",
      "\n",
      "Image transformation:  4\n",
      "String result:    ace ears to all the soft woodland noises about them. Ome noe ne had moted, that im all the talk the name of Gollum os once come up. He was glad, though he felt that — «00 mach to ihope- that he would mever hear it again. He soon became atvare also that though they walked. alone, here were many men close att hand: mot only Damaroc aml Mablung flitting tia and out of the shadows ahead, but others  y aiid 2 SE -  Twish teouldl? ~~ 2-7 3 = Le Lae -e  So they passed -om; until the woodlands. grew thimmer and. the land cbegan to fall more-stéeply. Then: they tured asice  again, to the sight, and came quickly to a_small_river im 4 Rarnow gorge: it was the same steam that trickled far above out of the-zound pool, now grown to a swift torrent, leapmg. down over many stones in a deep-cloven bed, overhung wit “ex and dark box-woads. Locking west they could see, below, them in a kaze. of light, lowlands and broad meads, amc glimtime far Ot ‘ni the westering sun the wide waters of the  Eo}  A,r? - las! I must do you a discourtesy,’ said Faramur. *! will pardon it to one who has so far made his orders  © cowrtesy as not to slay you or to bind you. But it  and that mo stranger, not even one of Rohan that  with us, shall see the path we mow go with open eyes.  st blindfold you.” ; a ae  As ye ‘vid Frodo. “Even the Elves do likewise at  - ‘ed we crossed the borders of fair Loth-  “ el o, 8 5 ° maeaAl qe ® watt took it il, but the hobbits endured it. yer  c mo ~My. FT ~k.AN Van! oovraid 2 aarAl Fara nnrir.  = \n",
      "Similarity score:  881\n",
      "\n",
      "\n",
      "Baseline similarity:  1392\n",
      "Best score:  473\n",
      "Best score index:  3\n"
     ]
    }
   ],
   "source": [
    "# still need to research if this is the best distance metric to use\n",
    "from Levenshtein import distance as levenshtein_distance\n",
    "\n",
    "image_transformations = [img, gray, thresh, opening, canny]\n",
    "string_results = []\n",
    "similarity_scores = []\n",
    "for image in image_transformations:\n",
    "    string_results.append(pytesseract.image_to_string(image).replace('\\n', ' ').replace('THE WINDOW ON THE WEST 879', '')) # just removing the chapter number\n",
    "    similarity_scores.append(levenshtein_distance(list(ground_truth), list(string_results[-1])))\n",
    "    \n",
    "for i in range(len(string_results)):\n",
    "    print(\"Image transformation: \", i)\n",
    "    print(\"String result: \", string_results[i])\n",
    "    print(\"Similarity score: \", similarity_scores[i])\n",
    "    print(\"\\n\")\n",
    "\n",
    "print(\"Baseline similarity: \", levenshtein_distance(list(ground_truth), list(\"\")))\n",
    "\n",
    "# best score\n",
    "print(\"Best score: \", min(similarity_scores))\n",
    "print(\"Best score index: \", similarity_scores.index(min(similarity_scores)))\n",
    "\n",
    "best_reading = string_results[similarity_scores.index(min(similarity_scores))]"
   ]
  },
  {
   "cell_type": "code",
   "execution_count": 1,
   "metadata": {},
   "outputs": [],
   "source": [
    "from playsound import playsound\n",
    "playsound(\"hello.mp3\")"
   ]
  },
  {
   "cell_type": "markdown",
   "metadata": {},
   "source": [
    "# Turning the read words to speech"
   ]
  },
  {
   "cell_type": "code",
   "execution_count": 3,
   "metadata": {},
   "outputs": [],
   "source": [
    "import gtts\n",
    "from playsound import playsound\n",
    "\n",
    "# make request to google to get synthesis\n",
    "tts = gtts.gTTS(best_reading)\n",
    "\n",
    "# save the audio file\n",
    "tts.save(\"best_reading.mp3\")\n",
    "\n",
    "# play the audio file\n",
    "playsound(\"best_reading.mp3\")"
   ]
  }
 ],
 "metadata": {
  "kernelspec": {
   "display_name": "comp9418",
   "language": "python",
   "name": "python3"
  },
  "language_info": {
   "codemirror_mode": {
    "name": "ipython",
    "version": 3
   },
   "file_extension": ".py",
   "mimetype": "text/x-python",
   "name": "python",
   "nbconvert_exporter": "python",
   "pygments_lexer": "ipython3",
   "version": "3.11.0"
  },
  "orig_nbformat": 4
 },
 "nbformat": 4,
 "nbformat_minor": 2
}
